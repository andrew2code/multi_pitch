{
 "cells": [
  {
   "cell_type": "markdown",
   "metadata": {},
   "source": [
    "# Final Project Exploratory Data Analysis\n",
    "\n",
    "Do your EDA in this notebook!"
   ]
  },
  {
   "cell_type": "code",
   "execution_count": 10,
   "metadata": {},
   "outputs": [],
   "source": [
    "import pandas as pd\n",
    "# print(f'I am using {pd.__name__} Version: {pd.__version__}.')\n",
    "# print(f'It is installed at: {pd.__path__}')"
   ]
  },
  {
   "cell_type": "code",
   "execution_count": 14,
   "metadata": {},
   "outputs": [],
   "source": [
    "climbing = pd.read_csv('data/data.csv')"
   ]
  },
  {
   "cell_type": "code",
   "execution_count": 19,
   "metadata": {},
   "outputs": [
    {
     "data": {
      "text/html": [
       "<div>\n",
       "<style scoped>\n",
       "    .dataframe tbody tr th:only-of-type {\n",
       "        vertical-align: middle;\n",
       "    }\n",
       "\n",
       "    .dataframe tbody tr th {\n",
       "        vertical-align: top;\n",
       "    }\n",
       "\n",
       "    .dataframe thead th {\n",
       "        text-align: right;\n",
       "    }\n",
       "</style>\n",
       "<table border=\"1\" class=\"dataframe\">\n",
       "  <thead>\n",
       "    <tr style=\"text-align: right;\">\n",
       "      <th></th>\n",
       "      <th>Route</th>\n",
       "      <th>Location</th>\n",
       "      <th>URL</th>\n",
       "      <th>Avg Stars</th>\n",
       "      <th>Your Stars</th>\n",
       "      <th>Route Type</th>\n",
       "      <th>Rating</th>\n",
       "      <th>Pitches</th>\n",
       "      <th>Length</th>\n",
       "      <th>Area Latitude</th>\n",
       "      <th>Area Longitude</th>\n",
       "    </tr>\n",
       "  </thead>\n",
       "  <tbody>\n",
       "    <tr>\n",
       "      <td>0</td>\n",
       "      <td>Flyboys</td>\n",
       "      <td>Goat Wall &gt; Mazama &gt; Okanogan &gt; Washington</td>\n",
       "      <td>https://www.mountainproject.com/route/11366537...</td>\n",
       "      <td>3.1</td>\n",
       "      <td>-1</td>\n",
       "      <td>Sport</td>\n",
       "      <td>5.9</td>\n",
       "      <td>18</td>\n",
       "      <td>1800.0</td>\n",
       "      <td>48.62285</td>\n",
       "      <td>-120.44865</td>\n",
       "    </tr>\n",
       "    <tr>\n",
       "      <td>1</td>\n",
       "      <td>Playin' Hooky</td>\n",
       "      <td>Creek Side &gt; Clear Creek Canyon &gt; Golden &gt; Col...</td>\n",
       "      <td>https://www.mountainproject.com/route/10670163...</td>\n",
       "      <td>3.3</td>\n",
       "      <td>-1</td>\n",
       "      <td>Sport</td>\n",
       "      <td>5.8</td>\n",
       "      <td>4</td>\n",
       "      <td>400.0</td>\n",
       "      <td>39.74102</td>\n",
       "      <td>-105.41042</td>\n",
       "    </tr>\n",
       "    <tr>\n",
       "      <td>2</td>\n",
       "      <td>Tachycardia</td>\n",
       "      <td>Heart Rock &gt; Heart Rock Area &gt; Maple Canyon Ro...</td>\n",
       "      <td>https://www.mountainproject.com/route/10766953...</td>\n",
       "      <td>3.7</td>\n",
       "      <td>-1</td>\n",
       "      <td>Sport</td>\n",
       "      <td>5.7</td>\n",
       "      <td>3</td>\n",
       "      <td>300.0</td>\n",
       "      <td>39.55610</td>\n",
       "      <td>-111.67080</td>\n",
       "    </tr>\n",
       "    <tr>\n",
       "      <td>3</td>\n",
       "      <td>Big Bad Wolf</td>\n",
       "      <td>Riding Hood Wall &gt; 01-Calico Basin &gt; Red Rock ...</td>\n",
       "      <td>https://www.mountainproject.com/route/10733921...</td>\n",
       "      <td>3.1</td>\n",
       "      <td>-1</td>\n",
       "      <td>Sport</td>\n",
       "      <td>5.9</td>\n",
       "      <td>3</td>\n",
       "      <td>220.0</td>\n",
       "      <td>36.14947</td>\n",
       "      <td>-115.42673</td>\n",
       "    </tr>\n",
       "    <tr>\n",
       "      <td>4</td>\n",
       "      <td>Star Chek</td>\n",
       "      <td>Galaxy Buttress &gt; The Gorge &gt; Sea to Sky (Squa...</td>\n",
       "      <td>https://www.mountainproject.com/route/10710479...</td>\n",
       "      <td>3.4</td>\n",
       "      <td>-1</td>\n",
       "      <td>Sport</td>\n",
       "      <td>5.8+</td>\n",
       "      <td>3</td>\n",
       "      <td>400.0</td>\n",
       "      <td>49.92400</td>\n",
       "      <td>-123.16750</td>\n",
       "    </tr>\n",
       "  </tbody>\n",
       "</table>\n",
       "</div>"
      ],
      "text/plain": [
       "           Route                                           Location  \\\n",
       "0        Flyboys         Goat Wall > Mazama > Okanogan > Washington   \n",
       "1  Playin' Hooky  Creek Side > Clear Creek Canyon > Golden > Col...   \n",
       "2    Tachycardia  Heart Rock > Heart Rock Area > Maple Canyon Ro...   \n",
       "3   Big Bad Wolf  Riding Hood Wall > 01-Calico Basin > Red Rock ...   \n",
       "4      Star Chek  Galaxy Buttress > The Gorge > Sea to Sky (Squa...   \n",
       "\n",
       "                                                 URL  Avg Stars  Your Stars  \\\n",
       "0  https://www.mountainproject.com/route/11366537...        3.1          -1   \n",
       "1  https://www.mountainproject.com/route/10670163...        3.3          -1   \n",
       "2  https://www.mountainproject.com/route/10766953...        3.7          -1   \n",
       "3  https://www.mountainproject.com/route/10733921...        3.1          -1   \n",
       "4  https://www.mountainproject.com/route/10710479...        3.4          -1   \n",
       "\n",
       "  Route Type Rating  Pitches  Length  Area Latitude  Area Longitude  \n",
       "0      Sport    5.9       18  1800.0       48.62285      -120.44865  \n",
       "1      Sport    5.8        4   400.0       39.74102      -105.41042  \n",
       "2      Sport    5.7        3   300.0       39.55610      -111.67080  \n",
       "3      Sport    5.9        3   220.0       36.14947      -115.42673  \n",
       "4      Sport   5.8+        3   400.0       49.92400      -123.16750  "
      ]
     },
     "execution_count": 19,
     "metadata": {},
     "output_type": "execute_result"
    }
   ],
   "source": [
    "climbing.head()"
   ]
  },
  {
   "cell_type": "code",
   "execution_count": 16,
   "metadata": {},
   "outputs": [
    {
     "data": {
      "text/plain": [
       "pandas.core.frame.DataFrame"
      ]
     },
     "execution_count": 16,
     "metadata": {},
     "output_type": "execute_result"
    }
   ],
   "source": [
    "type(climbing)"
   ]
  },
  {
   "cell_type": "code",
   "execution_count": 20,
   "metadata": {},
   "outputs": [
    {
     "data": {
      "text/plain": [
       "(926, 11)"
      ]
     },
     "execution_count": 20,
     "metadata": {},
     "output_type": "execute_result"
    }
   ],
   "source": [
    "climbing.shape"
   ]
  },
  {
   "cell_type": "code",
   "execution_count": 21,
   "metadata": {},
   "outputs": [
    {
     "data": {
      "text/plain": [
       "Index(['Route', 'Location', 'URL', 'Avg Stars', 'Your Stars', 'Route Type',\n",
       "       'Rating', 'Pitches', 'Length', 'Area Latitude', 'Area Longitude'],\n",
       "      dtype='object')"
      ]
     },
     "execution_count": 21,
     "metadata": {},
     "output_type": "execute_result"
    }
   ],
   "source": [
    "climbing.columns"
   ]
  },
  {
   "cell_type": "code",
   "execution_count": 23,
   "metadata": {},
   "outputs": [
    {
     "data": {
      "text/html": [
       "<div>\n",
       "<style scoped>\n",
       "    .dataframe tbody tr th:only-of-type {\n",
       "        vertical-align: middle;\n",
       "    }\n",
       "\n",
       "    .dataframe tbody tr th {\n",
       "        vertical-align: top;\n",
       "    }\n",
       "\n",
       "    .dataframe thead th {\n",
       "        text-align: right;\n",
       "    }\n",
       "</style>\n",
       "<table border=\"1\" class=\"dataframe\">\n",
       "  <thead>\n",
       "    <tr style=\"text-align: right;\">\n",
       "      <th></th>\n",
       "      <th>DataTypes</th>\n",
       "    </tr>\n",
       "  </thead>\n",
       "  <tbody>\n",
       "    <tr>\n",
       "      <td>Route</td>\n",
       "      <td>object</td>\n",
       "    </tr>\n",
       "    <tr>\n",
       "      <td>Location</td>\n",
       "      <td>object</td>\n",
       "    </tr>\n",
       "    <tr>\n",
       "      <td>URL</td>\n",
       "      <td>object</td>\n",
       "    </tr>\n",
       "    <tr>\n",
       "      <td>Avg Stars</td>\n",
       "      <td>float64</td>\n",
       "    </tr>\n",
       "    <tr>\n",
       "      <td>Your Stars</td>\n",
       "      <td>int64</td>\n",
       "    </tr>\n",
       "    <tr>\n",
       "      <td>Route Type</td>\n",
       "      <td>object</td>\n",
       "    </tr>\n",
       "    <tr>\n",
       "      <td>Rating</td>\n",
       "      <td>object</td>\n",
       "    </tr>\n",
       "    <tr>\n",
       "      <td>Pitches</td>\n",
       "      <td>int64</td>\n",
       "    </tr>\n",
       "    <tr>\n",
       "      <td>Length</td>\n",
       "      <td>float64</td>\n",
       "    </tr>\n",
       "    <tr>\n",
       "      <td>Area Latitude</td>\n",
       "      <td>float64</td>\n",
       "    </tr>\n",
       "    <tr>\n",
       "      <td>Area Longitude</td>\n",
       "      <td>float64</td>\n",
       "    </tr>\n",
       "  </tbody>\n",
       "</table>\n",
       "</div>"
      ],
      "text/plain": [
       "               DataTypes\n",
       "Route             object\n",
       "Location          object\n",
       "URL               object\n",
       "Avg Stars        float64\n",
       "Your Stars         int64\n",
       "Route Type        object\n",
       "Rating            object\n",
       "Pitches            int64\n",
       "Length           float64\n",
       "Area Latitude    float64\n",
       "Area Longitude   float64"
      ]
     },
     "execution_count": 23,
     "metadata": {},
     "output_type": "execute_result"
    }
   ],
   "source": [
    "pd.DataFrame(climbing.dtypes, columns = ['DataTypes'])"
   ]
  },
  {
   "cell_type": "code",
   "execution_count": 31,
   "metadata": {},
   "outputs": [
    {
     "data": {
      "text/html": [
       "<div>\n",
       "<style scoped>\n",
       "    .dataframe tbody tr th:only-of-type {\n",
       "        vertical-align: middle;\n",
       "    }\n",
       "\n",
       "    .dataframe tbody tr th {\n",
       "        vertical-align: top;\n",
       "    }\n",
       "\n",
       "    .dataframe thead th {\n",
       "        text-align: right;\n",
       "    }\n",
       "</style>\n",
       "<table border=\"1\" class=\"dataframe\">\n",
       "  <thead>\n",
       "    <tr style=\"text-align: right;\">\n",
       "      <th></th>\n",
       "      <th>Location</th>\n",
       "    </tr>\n",
       "  </thead>\n",
       "  <tbody>\n",
       "    <tr>\n",
       "      <td>0</td>\n",
       "      <td>Goat Wall &gt; Mazama &gt; Okanogan &gt; Washington</td>\n",
       "    </tr>\n",
       "    <tr>\n",
       "      <td>1</td>\n",
       "      <td>Creek Side &gt; Clear Creek Canyon &gt; Golden &gt; Col...</td>\n",
       "    </tr>\n",
       "    <tr>\n",
       "      <td>2</td>\n",
       "      <td>Heart Rock &gt; Heart Rock Area &gt; Maple Canyon Ro...</td>\n",
       "    </tr>\n",
       "    <tr>\n",
       "      <td>3</td>\n",
       "      <td>Riding Hood Wall &gt; 01-Calico Basin &gt; Red Rock ...</td>\n",
       "    </tr>\n",
       "    <tr>\n",
       "      <td>4</td>\n",
       "      <td>Galaxy Buttress &gt; The Gorge &gt; Sea to Sky (Squa...</td>\n",
       "    </tr>\n",
       "    <tr>\n",
       "      <td>...</td>\n",
       "      <td>...</td>\n",
       "    </tr>\n",
       "    <tr>\n",
       "      <td>921</td>\n",
       "      <td>Punta Delle Cinque Dita &gt; Sassolungo (Langkolf...</td>\n",
       "    </tr>\n",
       "    <tr>\n",
       "      <td>922</td>\n",
       "      <td>High Peaks &gt; Pinnacles National Park &gt; Central...</td>\n",
       "    </tr>\n",
       "    <tr>\n",
       "      <td>923</td>\n",
       "      <td>09. Dark Side of the Moon &gt; Mortal Earth &gt; The...</td>\n",
       "    </tr>\n",
       "    <tr>\n",
       "      <td>924</td>\n",
       "      <td>South Face &gt; The Skull &gt; Lake Arrowhead Pinnac...</td>\n",
       "    </tr>\n",
       "    <tr>\n",
       "      <td>925</td>\n",
       "      <td>Les Chèserys &gt; Valley crags &gt; Chamonix Mont Bl...</td>\n",
       "    </tr>\n",
       "  </tbody>\n",
       "</table>\n",
       "<p>926 rows × 1 columns</p>\n",
       "</div>"
      ],
      "text/plain": [
       "                                              Location\n",
       "0           Goat Wall > Mazama > Okanogan > Washington\n",
       "1    Creek Side > Clear Creek Canyon > Golden > Col...\n",
       "2    Heart Rock > Heart Rock Area > Maple Canyon Ro...\n",
       "3    Riding Hood Wall > 01-Calico Basin > Red Rock ...\n",
       "4    Galaxy Buttress > The Gorge > Sea to Sky (Squa...\n",
       "..                                                 ...\n",
       "921  Punta Delle Cinque Dita > Sassolungo (Langkolf...\n",
       "922  High Peaks > Pinnacles National Park > Central...\n",
       "923  09. Dark Side of the Moon > Mortal Earth > The...\n",
       "924  South Face > The Skull > Lake Arrowhead Pinnac...\n",
       "925  Les Chèserys > Valley crags > Chamonix Mont Bl...\n",
       "\n",
       "[926 rows x 1 columns]"
      ]
     },
     "execution_count": 31,
     "metadata": {},
     "output_type": "execute_result"
    }
   ],
   "source": [
    "climbing[['Location']]\n",
    "# I want to separate out every time there is a \" > \" into new columns. \n",
    "# The problem is I don't know how!"
   ]
  },
  {
   "cell_type": "code",
   "execution_count": 35,
   "metadata": {},
   "outputs": [
    {
     "data": {
      "text/plain": [
       "5.9             205\n",
       "5.10a           176\n",
       "5.8             118\n",
       "5.7              82\n",
       "5.9+             74\n",
       "5.8+             40\n",
       "5.10a/b          37\n",
       "5.10-            35\n",
       "5.9-             23\n",
       "5.7+             15\n",
       "5.10a PG13       14\n",
       "5.8-             13\n",
       "5.9+ PG13        13\n",
       "5.8 PG13         13\n",
       "5.9 PG13         12\n",
       "5.9 R             8\n",
       "5.7 PG13          6\n",
       "5.9- PG13         3\n",
       "5.7 R             3\n",
       "5.10a/b PG13      3\n",
       "5.8 R             3\n",
       "5.10- PG13        2\n",
       "5.10- R           2\n",
       "5.8 A0            2\n",
       "5.8 C0            2\n",
       "5.7 C0            2\n",
       "5.8+ PG13         2\n",
       "5.10a R           2\n",
       "5.7+ PG13         2\n",
       "5.8- PG13         2\n",
       "5.8 X             1\n",
       "5.9+ A0           1\n",
       "5.10a/b A1 R      1\n",
       "5.9 V1            1\n",
       "5.9- A0           1\n",
       "5.9 A0            1\n",
       "5.10a/b R         1\n",
       "5.10a/b A0        1\n",
       "5.7 A0            1\n",
       "5.7 A1            1\n",
       "5.9+ R            1\n",
       "5.10a A0          1\n",
       "Name: Rating, dtype: int64"
      ]
     },
     "execution_count": 35,
     "metadata": {},
     "output_type": "execute_result"
    }
   ],
   "source": [
    "climbing['Rating'].value_counts()\n",
    "# I also want to separate out the PG13, R, and X into a new column with a \n",
    "# 4th rating called 'Not rated'\n",
    "# I am setting rules like 5.9- will be a 5.8\n",
    "# 5.8- will be a 5.7\n"
   ]
  },
  {
   "cell_type": "code",
   "execution_count": 37,
   "metadata": {},
   "outputs": [
    {
     "data": {
      "text/plain": [
       "3.9      7\n",
       "3.6      9\n",
       "3.8     13\n",
       "3.7     14\n",
       "3.4     17\n",
       "2.3     24\n",
       "3.2     26\n",
       "3.1     30\n",
       "2.9     33\n",
       "2.4     43\n",
       "3.5     45\n",
       "2.6     47\n",
       "2.8     54\n",
       "4.0     56\n",
       "3.3     61\n",
       "2.7     68\n",
       "2.5    106\n",
       "3.0    273\n",
       "Name: Avg Stars, dtype: int64"
      ]
     },
     "execution_count": 37,
     "metadata": {},
     "output_type": "execute_result"
    }
   ],
   "source": [
    "climbing['Avg Stars'].value_counts(ascending=True)\n",
    "# i want to figure out how to ascending by the (is it called index?) left most column"
   ]
  },
  {
   "cell_type": "code",
   "execution_count": 39,
   "metadata": {},
   "outputs": [
    {
     "data": {
      "text/plain": [
       "Sport                  709\n",
       "Trad, Sport            117\n",
       "Sport, Alpine           50\n",
       "Trad, TR                12\n",
       "Sport, Aid              10\n",
       "TR                       8\n",
       "Trad, Sport, Alpine      8\n",
       "Sport, TR                3\n",
       "Trad, Sport, TR          2\n",
       "Sport, Aid, Alpine       2\n",
       "Trad, TR, Alpine         2\n",
       "Trad, Sport, Aid         2\n",
       "Sport, Boulder           1\n",
       "Name: Route Type, dtype: int64"
      ]
     },
     "execution_count": 39,
     "metadata": {},
     "output_type": "execute_result"
    }
   ],
   "source": [
    "climbing['Route Type'].value_counts()\n",
    "# i want to separate these out by their own columns Sport, Trad, Alpine, TR, Aid, Boulder\n",
    "# I must alphabatize this first! for example, instead of 'Trad, Sport', I want 'Sport, Trad'. That way the data is organized\n",
    "# when I separate it out into its own distince column"
   ]
  },
  {
   "cell_type": "code",
   "execution_count": 40,
   "metadata": {},
   "outputs": [
    {
     "data": {
      "text/plain": [
       "13"
      ]
     },
     "execution_count": 40,
     "metadata": {},
     "output_type": "execute_result"
    }
   ],
   "source": [
    "climbing['Route Type'].nunique()\n",
    "#this is not true, see below"
   ]
  },
  {
   "cell_type": "code",
   "execution_count": 41,
   "metadata": {},
   "outputs": [
    {
     "data": {
      "text/plain": [
       "array(['Sport', 'Trad, Sport, Aid', 'Trad, Sport', 'Trad, TR',\n",
       "       'Trad, Sport, TR', 'Trad, Sport, Alpine', 'Sport, Alpine',\n",
       "       'Sport, Aid', 'Trad, TR, Alpine', 'Sport, Boulder', 'Sport, TR',\n",
       "       'TR', 'Sport, Aid, Alpine'], dtype=object)"
      ]
     },
     "execution_count": 41,
     "metadata": {},
     "output_type": "execute_result"
    }
   ],
   "source": [
    "climbing['Route Type'].unique()\n",
    "#this is not true because it is incorrectly counting 'Sport' as 1, \n",
    "# 'Trad, Sport, Aid' as its own value"
   ]
  }
 ],
 "metadata": {
  "kernelspec": {
   "display_name": "Python 3",
   "language": "python",
   "name": "python3"
  },
  "language_info": {
   "codemirror_mode": {
    "name": "ipython",
    "version": 3
   },
   "file_extension": ".py",
   "mimetype": "text/x-python",
   "name": "python",
   "nbconvert_exporter": "python",
   "pygments_lexer": "ipython3",
   "version": "3.7.4"
  }
 },
 "nbformat": 4,
 "nbformat_minor": 2
}
